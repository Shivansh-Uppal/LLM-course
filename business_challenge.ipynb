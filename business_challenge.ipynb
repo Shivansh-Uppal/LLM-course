{
 "cells": [
  {
   "cell_type": "code",
   "execution_count": 50,
   "metadata": {},
   "outputs": [],
   "source": [
    "import os\n",
    "import requests\n",
    "import json\n",
    "from typing import List\n",
    "from dotenv import load_dotenv\n",
    "from bs4 import BeautifulSoup\n",
    "from IPython.display import Markdown, display, update_display\n",
    "from urllib.parse import urljoin, quote\n",
    "import re\n",
    "import google.generativeai as genai"
   ]
  },
  {
   "cell_type": "code",
   "execution_count": 51,
   "metadata": {},
   "outputs": [],
   "source": [
    "load_dotenv()\n",
    "\n",
    "api_key = os.getenv(\"GOOGLE_API_KEY\")"
   ]
  },
  {
   "cell_type": "code",
   "execution_count": 52,
   "metadata": {},
   "outputs": [],
   "source": [
    "genai.configure(api_key=api_key)\n",
    "model = genai.GenerativeModel(\"gemini-1.5-flash\")"
   ]
  },
  {
   "cell_type": "code",
   "execution_count": 53,
   "metadata": {},
   "outputs": [],
   "source": [
    "class Website:\n",
    "    url: str\n",
    "    title: str\n",
    "    body: str\n",
    "    links: List[str]\n",
    "    text: str\n",
    "\n",
    "    def __init__(self, url: str):\n",
    "        self.url = url\n",
    "        response = requests.get(url)\n",
    "        self.body = response.content\n",
    "        soup = BeautifulSoup(response.content, \"html.parser\")\n",
    "        self.title = soup.title.string if soup.title else \"No title found\"\n",
    "        if soup.body:\n",
    "            for irrelevant in soup([\"script\", \"style\",\"img\",\"input\"]):\n",
    "                irrelevant.decompose()\n",
    "            self.text=soup.body.get_text(separator=\"\\n\",strip=True)\n",
    "        else:\n",
    "            self.text = \"\"\n",
    "        links = [link.get(\"href\") for link in soup.find_all(\"a\") if link.get(\"href\")]\n",
    "        self.links = [urljoin(url, quote(link, safe=':/')) for link in links]\n",
    "    \n",
    "    def get_contents(self):\n",
    "        return f\"Webpage Title: \\n{self.title}\\nWebpage Content: \\n{self.text}\\n\\n\""
   ]
  },
  {
   "cell_type": "code",
   "execution_count": 54,
   "metadata": {},
   "outputs": [
    {
     "name": "stdout",
     "output_type": "stream",
     "text": [
      "['https://www.linkedin.com/in/shivanshuppal/', 'https://github.com/Shivansh-Uppal', 'https://flowcv.me/cdn-cgi/l/email-protection%23d5a6bdbca3b4bba6bda2b4ac95b2b8b4bcb9fbb6bab8', 'https://flowcv.me/shivansh-uppal/Shivansh%20Uppal-Resume-q7fmb8hadm.pdf']\n"
     ]
    }
   ],
   "source": [
    "shivansh=Website(\"https://flowcv.me/shivansh-uppal\")\n",
    "print(shivansh.links)"
   ]
  },
  {
   "cell_type": "markdown",
   "metadata": {},
   "source": [
    "Use Gemini to read links on a webpage and respond in structured JSON"
   ]
  },
  {
   "cell_type": "code",
   "execution_count": 55,
   "metadata": {},
   "outputs": [],
   "source": [
    "link_system_prompt= \"You are provided with a list of links found on a webpage. \\\n",
    "You are able to decide which of the links would be most relevant ti include in a brouchure about the company. \\\n",
    "such as links to an about page or a company page or Careers/Jobs pages. \\n\"\n",
    "\n",
    "link_system_prompt+= \"You should respond in JSON as in this example:\"\n",
    "\n",
    "link_system_prompt+= \"\"\"\n",
    "{\n",
    "    \"links\": [\n",
    "    {\"type\": \"about page\", \"url\": \"https://full.url/goes/here/about\"},\n",
    "    {\"type\": \"careers page\", \"url\": \"https://another.full.url/careers\"}\n",
    "    ]\n",
    "} \n",
    "\"\"\""
   ]
  },
  {
   "cell_type": "code",
   "execution_count": 56,
   "metadata": {},
   "outputs": [
    {
     "name": "stdout",
     "output_type": "stream",
     "text": [
      "You are provided with a list of links found on a webpage. You are able to decide which of the links would be most relevant ti include in a brouchure about the company. such as links to an about page or a company page or Careers/Jobs pages. \n",
      "You should respond in JSON as in this example:\n",
      "{\n",
      "    \"links\": [\n",
      "    {\"type\": \"about page\", \"url\": \"https://full.url/goes/here/about\"},\n",
      "    {\"type\": \"careers page\", \"url\": \"https://another.full.url/careers\"}\n",
      "    ]\n",
      "} \n",
      "\n"
     ]
    }
   ],
   "source": [
    "print(link_system_prompt)"
   ]
  },
  {
   "cell_type": "code",
   "execution_count": 57,
   "metadata": {},
   "outputs": [],
   "source": [
    "def get_links_user_prompt(website):\n",
    "    user_prompt=f\"Here is the list of links on the website of {website.url} -\"\n",
    "    user_prompt+= \"please decide which of these are relvant web links for a broucher about the company, respond with the full https URL: \\\n",
    "Don not include Terms of service, Privacy, email links. \\n\"\n",
    "    user_prompt+= \"Links (some might be relevant links):\\n\"\n",
    "    user_prompt+= \"\\n\".join(website.links)\n",
    "    return user_prompt"
   ]
  },
  {
   "cell_type": "code",
   "execution_count": 58,
   "metadata": {},
   "outputs": [
    {
     "name": "stdout",
     "output_type": "stream",
     "text": [
      "Here is the list of links on the website of https://flowcv.me/shivansh-uppal -please decide which of these are relvant web links for a broucher about the company, respond with the full https URL: Don not include Terms of service, Privacy, email links. \n",
      "Links (some might be relevant links):\n",
      "https://www.linkedin.com/in/shivanshuppal/\n",
      "https://github.com/Shivansh-Uppal\n",
      "https://flowcv.me/cdn-cgi/l/email-protection%23d5a6bdbca3b4bba6bda2b4ac95b2b8b4bcb9fbb6bab8\n",
      "https://flowcv.me/shivansh-uppal/Shivansh%20Uppal-Resume-q7fmb8hadm.pdf\n"
     ]
    }
   ],
   "source": [
    "print(get_links_user_prompt(shivansh))"
   ]
  },
  {
   "cell_type": "code",
   "execution_count": 59,
   "metadata": {},
   "outputs": [
    {
     "name": "stdout",
     "output_type": "stream",
     "text": [
      "You are provided with a list of links found on a webpage. You are able to decide which of the links would be most relevant ti include in a brouchure about the company. such as links to an about page or a company page or Careers/Jobs pages. \n",
      "You should respond in JSON as in this example:\n",
      "{\n",
      "    \"links\": [\n",
      "    {\"type\": \"about page\", \"url\": \"https://full.url/goes/here/about\"},\n",
      "    {\"type\": \"careers page\", \"url\": \"https://another.full.url/careers\"}\n",
      "    ]\n",
      "} \n",
      "\n",
      "\n",
      "Here is the list of links on the website of https://flowcv.me/shivansh-uppal -please decide which of these are relvant web links for a broucher about the company, respond with the full https URL: Don not include Terms of service, Privacy, email links. \n",
      "Links (some might be relevant links):\n",
      "https://www.linkedin.com/in/shivanshuppal/\n",
      "https://github.com/Shivansh-Uppal\n",
      "https://flowcv.me/cdn-cgi/l/email-protection%23d5a6bdbca3b4bba6bda2b4ac95b2b8b4bcb9fbb6bab8\n",
      "https://flowcv.me/shivansh-uppal/Shivansh%20Uppal-Resume-q7fmb8hadm.pdf\n"
     ]
    }
   ],
   "source": [
    "print(f\"{link_system_prompt}\\n\\n{get_links_user_prompt(shivansh)}\")"
   ]
  },
  {
   "cell_type": "code",
   "execution_count": 78,
   "metadata": {},
   "outputs": [],
   "source": [
    "def get_links(url):\n",
    "    website=Website(url)\n",
    "    completion=model.generate_content(\n",
    "        contents=f\"{link_system_prompt}\\n\\n{get_links_user_prompt(website)}\"\n",
    "    )\n",
    "    result=completion.text\n",
    "    json_match = re.search(r'\\{.*\\}', result, re.DOTALL)\n",
    "    if json_match:\n",
    "        json_string = json_match.group(0)  # Extract only JSON part\n",
    "        parsed_json = json.loads(json_string)\n",
    "        return parsed_json\n",
    "    else:\n",
    "        print(\"No valid JSON found!\")"
   ]
  },
  {
   "cell_type": "code",
   "execution_count": 79,
   "metadata": {},
   "outputs": [
    {
     "name": "stdout",
     "output_type": "stream",
     "text": [
      "['https://www.anthropic.com/', 'https://www.anthropic.com/claude', 'https://www.anthropic.com/claude', 'https://www.anthropic.com/team', 'https://www.anthropic.com/enterprise', 'https://www.anthropic.com/api', 'https://www.anthropic.com/pricing', 'https://www.anthropic.com/research', 'https://www.anthropic.com/company', 'https://www.anthropic.com/careers', 'https://www.anthropic.com/news', 'https://claude.ai/', 'https://www.anthropic.com/research%23entry:8%401:url', 'https://www.anthropic.com/claude', 'https://claude.ai/', 'https://www.anthropic.com/api', 'https://www.anthropic.com/news/3-5-models-and-computer-use', 'https://www.anthropic.com/claude/sonnet', 'https://www.anthropic.com/claude/haiku', 'https://www.anthropic.com/news/claude-for-enterprise', 'https://www.anthropic.com/research/constitutional-ai-harmlessness-from-ai-feedback', 'https://www.anthropic.com/news/core-views-on-ai-safety', 'https://www.anthropic.com/jobs', 'https://www.anthropic.com/', 'https://www.anthropic.com/claude', 'https://www.anthropic.com/api', 'https://www.anthropic.com/team', 'https://www.anthropic.com/pricing', 'https://www.anthropic.com/research', 'https://www.anthropic.com/company', 'https://www.anthropic.com/customers', 'https://www.anthropic.com/news', 'https://www.anthropic.com/careers', 'mailto:press%40anthropic.com', 'https://support.anthropic.com/', 'https://status.anthropic.com/', 'https://www.anthropic.com/supported-countries', 'https://twitter.com/AnthropicAI', 'https://www.linkedin.com/company/anthropicresearch', 'https://www.youtube.com/%40anthropic-ai', 'https://www.anthropic.com/legal/consumer-terms', 'https://www.anthropic.com/legal/commercial-terms', 'https://www.anthropic.com/legal/privacy', 'https://www.anthropic.com/legal/aup', 'https://www.anthropic.com/responsible-disclosure-policy', 'https://trust.anthropic.com/']\n"
     ]
    }
   ],
   "source": [
    "anthropic=Website(\"https://www.anthropic.com/\")\n",
    "print(anthropic.links)"
   ]
  },
  {
   "cell_type": "code",
   "execution_count": 80,
   "metadata": {},
   "outputs": [
    {
     "data": {
      "text/plain": [
       "{'links': [{'type': 'about page', 'url': 'https://anthropic.com/company'},\n",
       "  {'type': 'careers page', 'url': 'https://anthropic.com/careers'},\n",
       "  {'type': 'research page', 'url': 'https://anthropic.com/research'},\n",
       "  {'type': 'product page', 'url': 'https://anthropic.com/claude'},\n",
       "  {'type': 'enterprise page', 'url': 'https://anthropic.com/enterprise'},\n",
       "  {'type': 'news page', 'url': 'https://anthropic.com/news'}]}"
      ]
     },
     "execution_count": 80,
     "metadata": {},
     "output_type": "execute_result"
    }
   ],
   "source": [
    "get_links(\"https://anthropic.com\")"
   ]
  },
  {
   "cell_type": "code",
   "execution_count": null,
   "metadata": {},
   "outputs": [],
   "source": []
  }
 ],
 "metadata": {
  "kernelspec": {
   "display_name": "base",
   "language": "python",
   "name": "python3"
  },
  "language_info": {
   "codemirror_mode": {
    "name": "ipython",
    "version": 3
   },
   "file_extension": ".py",
   "mimetype": "text/x-python",
   "name": "python",
   "nbconvert_exporter": "python",
   "pygments_lexer": "ipython3",
   "version": "3.11.5"
  }
 },
 "nbformat": 4,
 "nbformat_minor": 2
}
